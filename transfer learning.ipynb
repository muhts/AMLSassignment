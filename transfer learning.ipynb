{
 "cells": [
  {
   "cell_type": "code",
   "execution_count": 1,
   "metadata": {},
   "outputs": [],
   "source": [
    "import matplotlib.pyplot as plt\n",
    "\n",
    "import torch\n",
    "from torch import nn\n",
    "from torch import optim\n",
    "import torch.nn.functional as F\n",
    "\n",
    "from torchvision import datasets, transforms, models, utils \n",
    "from torch.utils.data import DataLoader\n",
    "from sklearn.model_selection import train_test_split\n",
    "\n",
    "from classes.data_loader import split_dataloader\n",
    "from classes.data_cleaner import cleanFaces, removeNeg, replaceNeg\n",
    "from classes.Models import SimpleCNN, test_model, train_model\n",
    "\n",
    "#ignore warnings\n",
    "import warnings \n",
    "warnings.filterwarnings(\"ignore\")"
   ]
  },
  {
   "cell_type": "code",
   "execution_count": 2,
   "metadata": {},
   "outputs": [],
   "source": [
    "loader = split_dataloader(\"attribute_list.csv\",'hair_color')"
   ]
  },
  {
   "cell_type": "code",
   "execution_count": 3,
   "metadata": {
    "scrolled": true
   },
   "outputs": [
    {
     "data": {
      "text/plain": [
       "AlexNet(\n",
       "  (features): Sequential(\n",
       "    (0): Conv2d(3, 64, kernel_size=(11, 11), stride=(4, 4), padding=(2, 2))\n",
       "    (1): ReLU(inplace)\n",
       "    (2): MaxPool2d(kernel_size=3, stride=2, padding=0, dilation=1, ceil_mode=False)\n",
       "    (3): Conv2d(64, 192, kernel_size=(5, 5), stride=(1, 1), padding=(2, 2))\n",
       "    (4): ReLU(inplace)\n",
       "    (5): MaxPool2d(kernel_size=3, stride=2, padding=0, dilation=1, ceil_mode=False)\n",
       "    (6): Conv2d(192, 384, kernel_size=(3, 3), stride=(1, 1), padding=(1, 1))\n",
       "    (7): ReLU(inplace)\n",
       "    (8): Conv2d(384, 256, kernel_size=(3, 3), stride=(1, 1), padding=(1, 1))\n",
       "    (9): ReLU(inplace)\n",
       "    (10): Conv2d(256, 256, kernel_size=(3, 3), stride=(1, 1), padding=(1, 1))\n",
       "    (11): ReLU(inplace)\n",
       "    (12): MaxPool2d(kernel_size=3, stride=2, padding=0, dilation=1, ceil_mode=False)\n",
       "  )\n",
       "  (classifier): Sequential(\n",
       "    (0): Dropout(p=0.5)\n",
       "    (1): Linear(in_features=9216, out_features=4096, bias=True)\n",
       "    (2): ReLU(inplace)\n",
       "    (3): Dropout(p=0.5)\n",
       "    (4): Linear(in_features=4096, out_features=4096, bias=True)\n",
       "    (5): ReLU(inplace)\n",
       "    (6): Linear(in_features=4096, out_features=1000, bias=True)\n",
       "  )\n",
       ")"
      ]
     },
     "execution_count": 3,
     "metadata": {},
     "output_type": "execute_result"
    }
   ],
   "source": [
    "model = models.alexnet(pretrained=True)\n",
    "model"
   ]
  },
  {
   "cell_type": "code",
   "execution_count": 4,
   "metadata": {},
   "outputs": [],
   "source": [
    "num_ftrs = model.classifier[6].in_features\n",
    "model.classifier[6] = nn.Linear(num_ftrs, 6)"
   ]
  },
  {
   "cell_type": "code",
   "execution_count": 5,
   "metadata": {
    "scrolled": true
   },
   "outputs": [
    {
     "name": "stdout",
     "output_type": "stream",
     "text": [
      "using gpu\n",
      "Epoch: 1 \tTrain Loss: 1.209553 \tVal Loss: 0.599325\n",
      "Validation Accuracy: 75.92829705505761 %\n",
      "Time taken: 12.887704849243164\n",
      "\n",
      "Epoch: 2 \tTrain Loss: 0.532704 \tVal Loss: 0.663999\n",
      "Validation Accuracy: 76.4404609475032 %\n",
      "Time taken: 10.465128183364868\n",
      "\n",
      "Epoch: 3 \tTrain Loss: 0.424397 \tVal Loss: 0.271524\n",
      "Validation Accuracy: 89.75672215108835 %\n",
      "Time taken: 9.920065879821777\n",
      "\n",
      "Epoch: 4 \tTrain Loss: 0.286214 \tVal Loss: 0.222767\n",
      "Validation Accuracy: 90.26888604353393 %\n",
      "Time taken: 9.809548139572144\n",
      "\n",
      "Epoch: 5 \tTrain Loss: 0.254183 \tVal Loss: 0.276226\n",
      "Validation Accuracy: 90.01280409731113 %\n",
      "Time taken: 9.841124057769775\n",
      "\n",
      "Epoch: 6 \tTrain Loss: 0.226301 \tVal Loss: 0.478308\n",
      "Validation Accuracy: 81.94622279129321 %\n",
      "Time taken: 9.406520128250122\n",
      "\n",
      "Epoch: 7 \tTrain Loss: 0.212215 \tVal Loss: 0.308101\n",
      "Validation Accuracy: 88.348271446863 %\n",
      "Time taken: 9.292168140411377\n",
      "\n",
      "Epoch: 8 \tTrain Loss: 0.198743 \tVal Loss: 0.277711\n",
      "Validation Accuracy: 90.26888604353393 %\n",
      "Time taken: 9.576020956039429\n",
      "\n",
      "Epoch: 9 \tTrain Loss: 0.179705 \tVal Loss: 0.249303\n",
      "Validation Accuracy: 90.39692701664532 %\n",
      "Time taken: 9.203794956207275\n",
      "\n",
      "Epoch: 10 \tTrain Loss: 0.171882 \tVal Loss: 0.229869\n",
      "Validation Accuracy: 91.2932138284251 %\n",
      "Time taken: 9.231823205947876\n",
      "\n",
      "Epoch: 11 \tTrain Loss: 0.211892 \tVal Loss: 0.314637\n",
      "Validation Accuracy: 87.83610755441741 %\n",
      "Time taken: 9.27288293838501\n",
      "\n",
      "Epoch: 12 \tTrain Loss: 0.163944 \tVal Loss: 0.179642\n",
      "Validation Accuracy: 92.31754161331627 %\n",
      "Time taken: 9.308413982391357\n",
      "\n",
      "Epoch: 13 \tTrain Loss: 0.136338 \tVal Loss: 0.254301\n",
      "Validation Accuracy: 91.0371318822023 %\n",
      "Time taken: 9.554562091827393\n",
      "\n",
      "Epoch: 14 \tTrain Loss: 0.137708 \tVal Loss: 0.345509\n",
      "Validation Accuracy: 86.42765685019207 %\n",
      "Time taken: 9.191343784332275\n",
      "\n",
      "Epoch: 15 \tTrain Loss: 0.131494 \tVal Loss: 0.402681\n",
      "Validation Accuracy: 85.91549295774648 %\n",
      "Time taken: 9.433063745498657\n",
      "\n",
      "Epoch: 16 \tTrain Loss: 0.120315 \tVal Loss: 0.170696\n",
      "Validation Accuracy: 93.34186939820742 %\n",
      "Time taken: 9.572242736816406\n",
      "\n",
      "Epoch: 17 \tTrain Loss: 0.108255 \tVal Loss: 0.160972\n",
      "Validation Accuracy: 93.34186939820742 %\n",
      "Time taken: 9.181965827941895\n",
      "\n",
      "Epoch: 18 \tTrain Loss: 0.100625 \tVal Loss: 0.204227\n",
      "Validation Accuracy: 93.21382842509603 %\n",
      "Time taken: 9.100080966949463\n",
      "\n",
      "Epoch: 19 \tTrain Loss: 0.087747 \tVal Loss: 0.152932\n",
      "Validation Accuracy: 94.1101152368758 %\n",
      "Time taken: 9.10558795928955\n",
      "\n",
      "Epoch: 20 \tTrain Loss: 0.140806 \tVal Loss: 0.150957\n",
      "Validation Accuracy: 94.1101152368758 %\n",
      "Time taken: 9.15244197845459\n",
      "\n",
      "Epoch: 21 \tTrain Loss: 0.084656 \tVal Loss: 0.184306\n",
      "Validation Accuracy: 93.72599231754161 %\n",
      "Time taken: 9.381463050842285\n",
      "\n",
      "Epoch: 22 \tTrain Loss: 0.071515 \tVal Loss: 0.157156\n",
      "Validation Accuracy: 93.08578745198463 %\n",
      "Time taken: 9.472949981689453\n",
      "\n",
      "Epoch: 23 \tTrain Loss: 0.074915 \tVal Loss: 0.254970\n",
      "Validation Accuracy: 92.44558258642766 %\n",
      "Time taken: 9.62832522392273\n",
      "\n",
      "Epoch: 24 \tTrain Loss: 0.069036 \tVal Loss: 0.153849\n",
      "Validation Accuracy: 94.49423815620999 %\n",
      "Time taken: 9.371762990951538\n",
      "\n",
      "Epoch: 25 \tTrain Loss: 0.074636 \tVal Loss: 0.178056\n",
      "Validation Accuracy: 93.72599231754161 %\n",
      "Time taken: 9.797828197479248\n",
      "\n",
      "Epoch: 26 \tTrain Loss: 0.062910 \tVal Loss: 0.263878\n",
      "Validation Accuracy: 90.52496798975672 %\n",
      "Time taken: 9.431907176971436\n",
      "\n",
      "Epoch: 27 \tTrain Loss: 0.073711 \tVal Loss: 0.184080\n",
      "Validation Accuracy: 94.87836107554418 %\n",
      "Time taken: 9.397048234939575\n",
      "\n",
      "Epoch: 28 \tTrain Loss: 0.073014 \tVal Loss: 0.152143\n",
      "Validation Accuracy: 94.62227912932138 %\n",
      "Time taken: 10.103585958480835\n",
      "\n",
      "Epoch: 29 \tTrain Loss: 0.061733 \tVal Loss: 0.184956\n",
      "Validation Accuracy: 93.59795134443021 %\n",
      "Time taken: 9.708039999008179\n",
      "\n",
      "Epoch: 30 \tTrain Loss: 0.062819 \tVal Loss: 0.200681\n",
      "Validation Accuracy: 93.08578745198463 %\n",
      "Time taken: 9.084496021270752\n",
      "\n",
      "Epoch: 31 \tTrain Loss: 0.064264 \tVal Loss: 0.234799\n",
      "Validation Accuracy: 92.70166453265045 %\n",
      "Time taken: 9.42251205444336\n",
      "\n",
      "Epoch: 32 \tTrain Loss: 0.052120 \tVal Loss: 0.173509\n",
      "Validation Accuracy: 94.49423815620999 %\n",
      "Time taken: 9.209320068359375\n",
      "\n",
      "Epoch: 33 \tTrain Loss: 0.059401 \tVal Loss: 0.206490\n",
      "Validation Accuracy: 93.854033290653 %\n",
      "Time taken: 9.717432975769043\n",
      "\n",
      "Epoch: 34 \tTrain Loss: 0.043648 \tVal Loss: 0.181292\n",
      "Validation Accuracy: 93.9820742637644 %\n",
      "Time taken: 10.524764060974121\n",
      "\n",
      "Epoch: 35 \tTrain Loss: 0.034592 \tVal Loss: 0.162899\n",
      "Validation Accuracy: 94.62227912932138 %\n",
      "Time taken: 9.899364709854126\n",
      "\n",
      "Epoch: 36 \tTrain Loss: 0.041471 \tVal Loss: 0.196418\n",
      "Validation Accuracy: 93.9820742637644 %\n",
      "Time taken: 9.571474075317383\n",
      "\n",
      "Epoch: 37 \tTrain Loss: 0.031882 \tVal Loss: 0.150490\n",
      "Validation Accuracy: 94.49423815620999 %\n",
      "Time taken: 9.872014999389648\n",
      "\n",
      "Epoch: 38 \tTrain Loss: 0.031554 \tVal Loss: 0.170986\n",
      "Validation Accuracy: 94.2381562099872 %\n",
      "Time taken: 10.06709599494934\n",
      "\n",
      "Epoch: 39 \tTrain Loss: 0.062535 \tVal Loss: 0.217181\n",
      "Validation Accuracy: 92.82970550576185 %\n",
      "Time taken: 10.093474864959717\n",
      "\n",
      "Epoch: 40 \tTrain Loss: 0.045730 \tVal Loss: 0.345197\n",
      "Validation Accuracy: 91.2932138284251 %\n",
      "Time taken: 9.23026990890503\n",
      "\n",
      "Epoch: 41 \tTrain Loss: 0.033094 \tVal Loss: 0.199827\n",
      "Validation Accuracy: 94.36619718309859 %\n",
      "Time taken: 9.73066520690918\n",
      "\n",
      "Epoch: 42 \tTrain Loss: 0.027234 \tVal Loss: 0.340220\n",
      "Validation Accuracy: 90.14084507042253 %\n",
      "Time taken: 9.523745059967041\n",
      "\n",
      "Epoch: 43 \tTrain Loss: 0.023524 \tVal Loss: 0.211373\n",
      "Validation Accuracy: 93.46991037131882 %\n",
      "Time taken: 8.9651780128479\n",
      "\n",
      "Epoch: 44 \tTrain Loss: 0.032095 \tVal Loss: 0.204840\n",
      "Validation Accuracy: 93.34186939820742 %\n",
      "Time taken: 9.116349935531616\n",
      "\n",
      "Epoch: 45 \tTrain Loss: 0.020031 \tVal Loss: 0.201940\n",
      "Validation Accuracy: 94.1101152368758 %\n",
      "Time taken: 10.42561388015747\n",
      "\n",
      "Epoch: 46 \tTrain Loss: 0.029616 \tVal Loss: 0.213631\n",
      "Validation Accuracy: 94.87836107554418 %\n",
      "Time taken: 10.85935115814209\n",
      "\n",
      "Epoch: 47 \tTrain Loss: 0.023500 \tVal Loss: 0.179536\n",
      "Validation Accuracy: 94.62227912932138 %\n",
      "Time taken: 9.738078832626343\n",
      "\n",
      "Epoch: 48 \tTrain Loss: 0.022772 \tVal Loss: 0.200080\n",
      "Validation Accuracy: 94.75032010243278 %\n",
      "Time taken: 9.711550235748291\n",
      "\n",
      "Epoch: 49 \tTrain Loss: 0.021730 \tVal Loss: 0.152446\n",
      "Validation Accuracy: 94.62227912932138 %\n",
      "Time taken: 9.548900842666626\n",
      "\n",
      "Epoch: 50 \tTrain Loss: 0.021239 \tVal Loss: 0.172803\n",
      "Validation Accuracy: 93.46991037131882 %\n",
      "Time taken: 9.073945999145508\n",
      "\n"
     ]
    }
   ],
   "source": [
    "z = train_model(loader['train'],loader['val'],model,n_epochs=50,save_file='model')"
   ]
  },
  {
   "cell_type": "code",
   "execution_count": 6,
   "metadata": {},
   "outputs": [
    {
     "data": {
      "text/plain": [
       "<matplotlib.legend.Legend at 0x156ac4978>"
      ]
     },
     "execution_count": 6,
     "metadata": {},
     "output_type": "execute_result"
    },
    {
     "data": {
      "image/png": "[encoded data removed]",
      "text/plain": [
       "<Figure size 432x288 with 1 Axes>"
      ]
     },
     "metadata": {
      "needs_background": "light"
     },
     "output_type": "display_data"
    }
   ],
   "source": [
    "# display learning graph of training and validation loss\n",
    "ep = [i for i in range(1,len(z['accuracy'])+1)]\n",
    "plt.plot(ep,z['val_loss'])\n",
    "plt.plot(ep,z['train_loss'])\n",
    "\n",
    "plt.title('Training vs Validation Loss')\n",
    "plt.xlabel('Epoch')\n",
    "plt.ylabel('Loss')\n",
    "plt.legend(['val loss','train loss'])"
   ]
  },
  {
   "cell_type": "code",
   "execution_count": 7,
   "metadata": {},
   "outputs": [
    {
     "name": "stdout",
     "output_type": "stream",
     "text": [
      "94.87836107554418\n"
     ]
    },
    {
     "data": {
      "text/plain": [
       "Text(0, 0.5, 'Accuracy')"
      ]
     },
     "execution_count": 7,
     "metadata": {},
     "output_type": "execute_result"
    },
    {
     "data": {
      "image/png": "[encoded data removed]",
      "text/plain": [
       "<Figure size 432x288 with 1 Axes>"
      ]
     },
     "metadata": {
      "needs_background": "light"
     },
     "output_type": "display_data"
    }
   ],
   "source": [
    "# display learning graph of accuracy \n",
    "print(max(z['accuracy']))\n",
    "plt.plot(ep,z['accuracy'])\n",
    "plt.title('Validation Accuracy')\n",
    "plt.xlabel('Epoch')\n",
    "plt.ylabel('Accuracy')"
   ]
  },
  {
   "cell_type": "code",
   "execution_count": 9,
   "metadata": {},
   "outputs": [
    {
     "name": "stdout",
     "output_type": "stream",
     "text": [
      "using gpu\n",
      "Test Accuracy: 95.64660691421255 %\n"
     ]
    }
   ],
   "source": [
    "# load saved weights\n",
    "model.load_state_dict(torch.load('savedmodels/model.pt'))\n",
    "# run test dataset\n",
    "load = test_model(loader['test'],model)"
   ]
  },
  {
   "cell_type": "code",
   "execution_count": null,
   "metadata": {},
   "outputs": [],
   "source": []
  }
 ],
 "metadata": {
  "kernelspec": {
   "display_name": "Python 3",
   "language": "python",
   "name": "python3"
  },
  "language_info": {
   "codemirror_mode": {
    "name": "ipython",
    "version": 3
   },
   "file_extension": ".py",
   "mimetype": "text/x-python",
   "name": "python",
   "nbconvert_exporter": "python",
   "pygments_lexer": "ipython3",
   "version": "3.6.7"
  }
 },
 "nbformat": 4,
 "nbformat_minor": 2
}
